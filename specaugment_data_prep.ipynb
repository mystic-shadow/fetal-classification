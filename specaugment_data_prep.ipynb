{
  "nbformat": 4,
  "nbformat_minor": 0,
  "metadata": {
    "colab": {
      "provenance": []
    },
    "kernelspec": {
      "name": "python3",
      "display_name": "Python 3"
    },
    "language_info": {
      "name": "python"
    }
  },
  "cells": [
    {
      "cell_type": "code",
      "execution_count": null,
      "metadata": {
        "id": "cNghRRzI3FX7"
      },
      "outputs": [],
      "source": [
        "!unzip /content/drive/MyDrive/shiraz-university-fetal-heart-sounds-database-1.0.1.zip"
      ]
    },
    {
      "cell_type": "code",
      "source": [
        "import os\n",
        "import random\n",
        "import shutil\n",
        "from glob import glob\n",
        "import numpy as np\n",
        "import librosa\n",
        "import librosa.display\n",
        "import matplotlib.pyplot as plt"
      ],
      "metadata": {
        "id": "b9sT8HRW5XBo"
      },
      "execution_count": null,
      "outputs": []
    },
    {
      "cell_type": "code",
      "source": [
        "def spec_augment(mel_spec, freq_masking=0.15, time_masking=0.30):\n",
        "    spec = mel_spec.copy()\n",
        "    num_mels, num_frames = spec.shape\n",
        "\n",
        "    f = int(freq_masking * num_mels)\n",
        "    f0 = random.randint(0, num_mels - f)\n",
        "    spec[f0:f0+f, :] = 0\n",
        "\n",
        "    t = int(time_masking * num_frames)\n",
        "    t0 = random.randint(0, num_frames - t)\n",
        "    spec[:, t0:t0+t] = 0\n",
        "\n",
        "    return spec"
      ],
      "metadata": {
        "id": "IAnAbeBe5TaF"
      },
      "execution_count": null,
      "outputs": []
    },
    {
      "cell_type": "code",
      "source": [
        "\n",
        "def create_augmented_dataset(input_folder, output_folder, num_augments=10):\n",
        "    if os.path.exists(output_folder):\n",
        "        shutil.rmtree(output_folder)\n",
        "    os.makedirs(output_folder, exist_ok=True)\n",
        "\n",
        "    wav_files = glob(os.path.join(input_folder, \"*.wav\"))\n",
        "    dataset = []\n",
        "\n",
        "    for wav_path in wav_files:\n",
        "        filename = os.path.basename(wav_path)\n",
        "        label = 'mother' if filename.startswith('m') else 'fetus'\n",
        "        y, sr = librosa.load(wav_path, sr=None)\n",
        "        mel = librosa.feature.melspectrogram(y=y, sr=sr, n_mels=128)\n",
        "        mel_db = librosa.power_to_db(mel, ref=np.max)\n",
        "\n",
        "        for i in range(num_augments):\n",
        "            aug = spec_augment(mel_db, freq_masking=0.15, time_masking=0.30)\n",
        "\n",
        "            save_dir = os.path.join(output_folder, label)\n",
        "            os.makedirs(save_dir, exist_ok=True)\n",
        "\n",
        "            out_filename = f\"{os.path.splitext(filename)[0]}_aug{i}.npy\"\n",
        "            out_path = os.path.join(save_dir, out_filename)\n",
        "            np.save(out_path, aug)\n",
        "\n",
        "            dataset.append((out_path, label))\n",
        "\n",
        "    return dataset\n",
        "\n",
        "\n"
      ],
      "metadata": {
        "id": "ZBm3V26f4B8Y"
      },
      "execution_count": null,
      "outputs": []
    },
    {
      "cell_type": "code",
      "source": [
        "\n",
        "def split_and_save(dataset, train_folder, test_folder, train_ratio=0.8):\n",
        "\n",
        "    random.shuffle(dataset)\n",
        "\n",
        "    os.makedirs(train_folder, exist_ok=True)\n",
        "    os.makedirs(test_folder, exist_ok=True)\n",
        "\n",
        "    split_idx = int(len(dataset) * train_ratio)\n",
        "    train_set = dataset[:split_idx]\n",
        "    test_set = dataset[split_idx:]\n",
        "\n",
        "    for dest_folder, split in [(train_folder, train_set), (test_folder, test_set)]:\n",
        "        for src_path, label in split:\n",
        "            label_folder = os.path.join(dest_folder, label)\n",
        "            os.makedirs(label_folder, exist_ok=True)\n",
        "            shutil.copy(src_path, label_folder)\n"
      ],
      "metadata": {
        "id": "3E_smWSN5Ocr"
      },
      "execution_count": null,
      "outputs": []
    },
    {
      "cell_type": "code",
      "source": [
        "dataset = create_augmented_dataset(\n",
        "    input_folder=\"/content/drive/MyDrive/shiraz-university-fetal-heart-sounds-database-1.0.1/base\",\n",
        "    output_folder=\"/content/drive/MyDrive/SUFHSDB/augmented_data\",\n",
        "    num_augments=10\n",
        ")"
      ],
      "metadata": {
        "id": "4bSVlHhy5ar_"
      },
      "execution_count": null,
      "outputs": []
    },
    {
      "cell_type": "code",
      "source": [
        "split_and_save(\n",
        "    dataset,\n",
        "    train_folder=\"/content/drive/MyDrive/SUFHSDB/training_data\",\n",
        "    test_folder=\"/content/drive/MyDrive/SUFHSDB/testing_data\",\n",
        "    train_ratio=0.8\n",
        ")"
      ],
      "metadata": {
        "id": "Eq1prTO_51Y1"
      },
      "execution_count": null,
      "outputs": []
    }
  ]
}